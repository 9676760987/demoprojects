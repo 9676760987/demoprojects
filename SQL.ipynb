{
 "cells": [
  {
   "cell_type": "code",
   "execution_count": 1,
   "metadata": {},
   "outputs": [],
   "source": [
    "#!/usr/bin/python\n",
    "\n",
    "import sqlite3\n",
    "\n",
    "# connecting with the database (If there is no database exists, It will create one).\n",
    "db = sqlite3.connect(\"my_database.db\")"
   ]
  },
  {
   "cell_type": "code",
   "execution_count": 2,
   "metadata": {},
   "outputs": [],
   "source": [
    "# Declare cursor\n",
    "cursor = db.cursor()"
   ]
  },
  {
   "cell_type": "markdown",
   "metadata": {},
   "source": [
    "### 1. Create Table Employee"
   ]
  },
  {
   "cell_type": "code",
   "execution_count": 3,
   "metadata": {},
   "outputs": [
    {
     "data": {
      "text/plain": [
       "<sqlite3.Cursor at 0x1f6bd42b9d0>"
      ]
     },
     "execution_count": 3,
     "metadata": {},
     "output_type": "execute_result"
    }
   ],
   "source": [
    "# Create Table Employee\n",
    "cursor.execute(\"CREATE TABLE Employee(EmpCode INT PRIMARY KEY, EmpFName TEXT, EmpLName TEXT,Job TEXT, Salary INT)\")"
   ]
  },
  {
   "cell_type": "markdown",
   "metadata": {},
   "source": [
    "### 2. Load all the data from Employee.CSV file."
   ]
  },
  {
   "cell_type": "code",
   "execution_count": 5,
   "metadata": {},
   "outputs": [
    {
     "name": "stdout",
     "output_type": "stream",
     "text": [
      "21  Records Inserted\n"
     ]
    }
   ],
   "source": [
    "with open('Employee.csv','r') as file:\n",
    "    no_records = 0\n",
    "    for row in file:\n",
    "        cursor.execute(\"INSERT INTO Employee VALUES ( ?,?,?,?,? )\",row.split(\",\"))\n",
    "        db.commit()\n",
    "        no_records +=1\n",
    "#db.close()\n",
    "print (no_records, ' Records Inserted')"
   ]
  },
  {
   "cell_type": "markdown",
   "metadata": {},
   "source": [
    "### 3. Select the Employee details who draw salary more than 35000 and less than 55000"
   ]
  },
  {
   "cell_type": "code",
   "execution_count": 6,
   "metadata": {},
   "outputs": [
    {
     "name": "stdout",
     "output_type": "stream",
     "text": [
      "(1001, 'Basha', 'Rose', 'Data Science', 40050)\n",
      "(1004, 'Ravi', 'Rose', 'SAS', 45000)\n",
      "(1005, 'Shankar', 'Pink', 'Python', 42000)\n",
      "(1009, 'Rajani', 'Flower', 'NLP', 45890)\n",
      "(1015, 'Seenu', 'Yellow', 'C++', 45780)\n",
      "(1017, 'Mushtaq', 'Maroon', 'SAS', 45020)\n",
      "(1020, 'Sakshi', 'Grand', 'NLP', 45670)\n"
     ]
    }
   ],
   "source": [
    "\n",
    "sql = \"SELECT * FROM Employee WHERE Salary BETWEEN 35000 AND 55000\"\n",
    "result = cursor.execute(sql)\n",
    "for row in result:\n",
    "    print(row)"
   ]
  },
  {
   "cell_type": "markdown",
   "metadata": {},
   "source": [
    "### 4. Select the Employee CODE, NAME & JOB Who's salary is more than or equal to 42000"
   ]
  },
  {
   "cell_type": "code",
   "execution_count": 11,
   "metadata": {},
   "outputs": [
    {
     "name": "stdout",
     "output_type": "stream",
     "text": [
      "(1004, 'Ravi', 'SAS', 45000)\n",
      "(1005, 'Shankar', 'Python', 42000)\n",
      "(1006, 'Mohit', 'Data Science', 56000)\n",
      "(1008, 'Anand ', 'Java', 76000)\n",
      "(1009, 'Rajani', 'NLP', 45890)\n",
      "(1011, 'Munna', 'PowerBI', 65040)\n",
      "(1012, 'Laksha', 'Tableau', 65830)\n",
      "(1013, 'Rohit', 'PowerBI', 98000)\n",
      "(1014, 'Shankar', 'Data Science', 65980)\n",
      "(1015, 'Seenu', 'C++', 45780)\n",
      "(1016, 'Jaggu', 'Java', 98120)\n",
      "(1017, 'Mushtaq', 'SAS', 45020)\n",
      "(1019, 'Anand', 'PowerBI', 75000)\n",
      "(1020, 'Sakshi', 'NLP', 45670)\n"
     ]
    }
   ],
   "source": [
    "\n",
    "sql = \"SELECT EmpCode,EmpFName,Job,Salary FROM Employee WHERE Salary >= 42000\"\n",
    "result = cursor.execute(sql)\n",
    "for row in result:\n",
    "    print(row)"
   ]
  },
  {
   "cell_type": "markdown",
   "metadata": {},
   "source": [
    "### 5. Fetch EmpFName,Job,Salary who's job is Data science and drawa greater or equal to 50000"
   ]
  },
  {
   "cell_type": "code",
   "execution_count": 24,
   "metadata": {},
   "outputs": [
    {
     "name": "stdout",
     "output_type": "stream",
     "text": [
      "('Mohit', 'Data Science', 56000)\n",
      "('Shankar', 'Data Science', 65980)\n"
     ]
    }
   ],
   "source": [
    "sql = \"SELECT EmpFName,Job,Salary FROM Employee WHERE Salary >= 50000 AND Job = 'Data Science'\"\n",
    "result = cursor.execute(sql)\n",
    "for row in result:\n",
    "    print(row)"
   ]
  },
  {
   "cell_type": "markdown",
   "metadata": {},
   "source": [
    "### 6. Create Employee Dept table"
   ]
  },
  {
   "cell_type": "code",
   "execution_count": 43,
   "metadata": {},
   "outputs": [
    {
     "data": {
      "text/plain": [
       "<sqlite3.Cursor at 0x1f6bd42b9d0>"
      ]
     },
     "execution_count": 43,
     "metadata": {},
     "output_type": "execute_result"
    }
   ],
   "source": [
    "# Create Table Employee\n",
    "cursor.execute(\"CREATE TABLE Emp_Dept(EmpCode INT PRIMARY KEY, EmpFName TEXT, Dept INT)\")"
   ]
  },
  {
   "cell_type": "markdown",
   "metadata": {},
   "source": [
    "### 7. Load all the data from Emp_Dept.csv"
   ]
  },
  {
   "cell_type": "code",
   "execution_count": 44,
   "metadata": {},
   "outputs": [
    {
     "name": "stdout",
     "output_type": "stream",
     "text": [
      "13  Records Inserted\n"
     ]
    }
   ],
   "source": [
    "with open('Emp_dept.csv','r') as file:\n",
    "    no_records = 0\n",
    "    for row in file:\n",
    "        cursor.execute(\"INSERT INTO Emp_dept VALUES (?,?,?)\",row.split(\",\"))\n",
    "        db.commit()\n",
    "        no_records +=1\n",
    "#db.close()\n",
    "print (no_records, ' Records Inserted')"
   ]
  },
  {
   "cell_type": "code",
   "execution_count": 45,
   "metadata": {},
   "outputs": [
    {
     "name": "stdout",
     "output_type": "stream",
     "text": [
      "(1000, 'Arun', 444)\n",
      "(1001, 'Basha', 666)\n",
      "(1006, 'Mohit', 777)\n",
      "(1007, 'Asha', 888)\n",
      "(1122, 'Anand ', 999)\n",
      "(2034, 'Rajani', 555)\n",
      "(1010, 'Rohit', 111)\n",
      "(1011, 'Munna', 555)\n",
      "(1234, 'Jaggu', 222)\n",
      "(1017, 'Mushtaq', 555)\n",
      "(1018, 'Ismail', 777)\n",
      "(4560, 'Anand', 333)\n",
      "(1020, 'Sakshi', 333)\n"
     ]
    }
   ],
   "source": [
    "sql = \"SELECT * FROM Emp_Dept\"\n",
    "result = dep_cur.execute(sql)\n",
    "for row in result:\n",
    "    print(row)"
   ]
  },
  {
   "cell_type": "markdown",
   "metadata": {},
   "source": [
    "### 8. Join table Employee and Emp_Dept and fetch code, First name , salary and dept based on matching employee code"
   ]
  },
  {
   "cell_type": "code",
   "execution_count": 46,
   "metadata": {},
   "outputs": [
    {
     "name": "stdout",
     "output_type": "stream",
     "text": [
      "(1000, 'Arun', 20250, 444)\n",
      "(1001, 'Basha', 40050, 666)\n",
      "(1006, 'Mohit', 56000, 777)\n",
      "(1007, 'Asha', 14000, 888)\n",
      "(1010, 'Rohit', 12347, 111)\n",
      "(1011, 'Munna', 65040, 555)\n",
      "(1017, 'Mushtaq', 45020, 555)\n",
      "(1018, 'Ismail', 12300, 777)\n",
      "(1020, 'Sakshi', 45670, 333)\n"
     ]
    }
   ],
   "source": [
    "sql = \"SELECT Employee.EmpCode, Employee.EmpFName, Employee.Salary, Emp_dept.Dept FROM Employee INNER JOIN Emp_Dept ON Employee.EmpCode = Emp_Dept.EmpCode\"\n",
    "result = cursor.execute(sql)\n",
    "for row in result:\n",
    "    print(row)"
   ]
  },
  {
   "cell_type": "code",
   "execution_count": 42,
   "metadata": {},
   "outputs": [
    {
     "data": {
      "text/plain": [
       "<sqlite3.Cursor at 0x1f6bd42b9d0>"
      ]
     },
     "execution_count": 42,
     "metadata": {},
     "output_type": "execute_result"
    }
   ],
   "source": [
    "sql = \"DROP TABLE Emp_dept\"\n",
    "cursor.execute(sql)"
   ]
  },
  {
   "cell_type": "code",
   "execution_count": null,
   "metadata": {},
   "outputs": [],
   "source": []
  }
 ],
 "metadata": {
  "hide_input": false,
  "kernelspec": {
   "display_name": "Python 3",
   "language": "python",
   "name": "python3"
  },
  "language_info": {
   "codemirror_mode": {
    "name": "ipython",
    "version": 3
   },
   "file_extension": ".py",
   "mimetype": "text/x-python",
   "name": "python",
   "nbconvert_exporter": "python",
   "pygments_lexer": "ipython3",
   "version": "3.6.5"
  }
 },
 "nbformat": 4,
 "nbformat_minor": 2
}
